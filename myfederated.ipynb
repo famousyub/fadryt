{
 "cells": [
  {
   "cell_type": "code",
   "execution_count": 1,
   "metadata": {},
   "outputs": [
    {
     "ename": "ModuleNotFoundError",
     "evalue": "No module named 'phe'",
     "output_type": "error",
     "traceback": [
      "\u001b[1;31m---------------------------------------------------------------------------\u001b[0m",
      "\u001b[1;31mModuleNotFoundError\u001b[0m                       Traceback (most recent call last)",
      "Cell \u001b[1;32mIn[1], line 3\u001b[0m\n\u001b[0;32m      1\u001b[0m \u001b[39mimport\u001b[39;00m \u001b[39mnumpy\u001b[39;00m \u001b[39mas\u001b[39;00m \u001b[39mnp\u001b[39;00m\n\u001b[0;32m      2\u001b[0m \u001b[39mimport\u001b[39;00m \u001b[39mtensorflow\u001b[39;00m \u001b[39mas\u001b[39;00m \u001b[39mtf\u001b[39;00m\n\u001b[1;32m----> 3\u001b[0m \u001b[39mimport\u001b[39;00m \u001b[39mphe\u001b[39;00m   \u001b[39m# PySyft Homomorphic Encryption Library\u001b[39;00m\n\u001b[0;32m      4\u001b[0m \u001b[39mfrom\u001b[39;00m \u001b[39msyft\u001b[39;00m\u001b[39m.\u001b[39;00m\u001b[39mframeworks\u001b[39;00m\u001b[39m.\u001b[39;00m\u001b[39mtorch\u001b[39;00m\u001b[39m.\u001b[39;00m\u001b[39mmpc\u001b[39;00m \u001b[39mimport\u001b[39;00m spdz\n\u001b[0;32m      6\u001b[0m \u001b[39m# Simulated client data\u001b[39;00m\n",
      "\u001b[1;31mModuleNotFoundError\u001b[0m: No module named 'phe'"
     ]
    }
   ],
   "source": [
    "import numpy as np\n",
    "import tensorflow as tf\n",
    "import phe   # PySyft Homomorphic Encryption Library\n",
    "from syft.frameworks.torch.mpc import spdz\n",
    "\n",
    "# Simulated client data\n",
    "client_data = {\n",
    "    \"client1\": np.random.rand(100, 784),\n",
    "    \"client2\": np.random.rand(100, 784),\n",
    "    # ... more clients\n",
    "}\n",
    "\n",
    "# Model architecture\n",
    "model = tf.keras.Sequential([\n",
    "    tf.keras.layers.Flatten(input_shape=(784,)),\n",
    "    tf.keras.layers.Dense(128, activation='relu'),\n",
    "    tf.keras.layers.Dense(10, activation='softmax')\n",
    "])\n",
    "\n",
    "# Encryption setup\n",
    "public_key, private_key = phe.generate_paillier_keypair()\n",
    "encryptor = public_key.encryptor()\n",
    "decryptor = private_key.decryptor()\n",
    "\n",
    "# Federated Learning loop\n",
    "for epoch in range(num_epochs):\n",
    "    model_weights = []  # Store encrypted model weights from clients\n",
    "\n",
    "    for client, data in client_data.items():\n",
    "        # Encrypt data locally\n",
    "        encrypted_data = [encryptor.encrypt(x) for x in data]\n",
    "\n",
    "        # Perform local training\n",
    "        local_model = train_local_model(encrypted_data, model)\n",
    "        encrypted_weights = encryptor.encrypt(local_model.get_weights())\n",
    "\n",
    "        # Store encrypted model weights\n",
    "        model_weights.append(encrypted_weights)\n",
    "\n",
    "    # Aggregate encrypted weights\n",
    "    aggregated_weights = spdz.sum_tensors(*model_weights)\n",
    "\n",
    "    # Decrypt and update global model\n",
    "    decrypted_weights = decryptor.decrypt(aggregated_weights)\n",
    "    global_model.set_weights(decrypted_weights)\n",
    "\n",
    "# Perform inference with encrypted input image\n",
    "input_image = np.random.rand(1, 784)\n",
    "encrypted_input = encryptor.encrypt(input_image.flatten())\n",
    "output = global_model.predict(encrypted_input)  # Decryption happens in the client\n"
   ]
  }
 ],
 "metadata": {
  "kernelspec": {
   "display_name": "env",
   "language": "python",
   "name": "python3"
  },
  "language_info": {
   "codemirror_mode": {
    "name": "ipython",
    "version": 3
   },
   "file_extension": ".py",
   "mimetype": "text/x-python",
   "name": "python",
   "nbconvert_exporter": "python",
   "pygments_lexer": "ipython3",
   "version": "3.11.2"
  },
  "orig_nbformat": 4
 },
 "nbformat": 4,
 "nbformat_minor": 2
}
